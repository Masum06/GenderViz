{
 "cells": [
  {
   "cell_type": "markdown",
   "metadata": {},
   "source": [
    "## Installation"
   ]
  },
  {
   "cell_type": "markdown",
   "metadata": {},
   "source": [
    "Python 3 Required"
   ]
  },
  {
   "cell_type": "code",
   "execution_count": 22,
   "metadata": {},
   "outputs": [
    {
     "name": "stderr",
     "output_type": "stream",
     "text": [
      "DEPRECATION: Python 2.7 will reach the end of its life on January 1st, 2020. Please upgrade your Python as Python 2.7 won't be maintained after that date. A future version of pip will drop support for Python 2.7.\n",
      "ERROR: Invalid requirement: 'networkx,'\n",
      "\n",
      "WARNING: You are using pip version 19.1.1, however version 19.3.1 is available.\n",
      "You should consider upgrading via the 'python -m pip install --upgrade pip' command.\n"
     ]
    }
   ],
   "source": [
    "!pip install installations/pyjnius-1.2.0-cp36-cp36m-win_amd64.whl\n",
    "!pip2 install networkx, matplotlib, flair"
   ]
  },
  {
   "cell_type": "markdown",
   "metadata": {},
   "source": [
    "## Text to Name"
   ]
  },
  {
   "cell_type": "code",
   "execution_count": 1,
   "metadata": {},
   "outputs": [],
   "source": [
    "from flair.data import Sentence"
   ]
  },
  {
   "cell_type": "code",
   "execution_count": 2,
   "metadata": {},
   "outputs": [
    {
     "name": "stdout",
     "output_type": "stream",
     "text": [
      "2019-10-20 19:43:39,565 loading file C:\\Users\\Hp\\.flair\\models\\en-ner-conll03-v0.4.pt\n"
     ]
    }
   ],
   "source": [
    "from flair.models import SequenceTagger\n",
    "from segtok.segmenter import split_single\n",
    "\n",
    "# load the NER tagger\n",
    "tagger = SequenceTagger.load('ner')"
   ]
  },
  {
   "cell_type": "code",
   "execution_count": 3,
   "metadata": {},
   "outputs": [],
   "source": [
    "def namesAndSentences(text):\n",
    "    sentences_obj = [Sentence(sent, use_tokenizer=True) for sent in split_single(text)]\n",
    "    tagger: SequenceTagger = SequenceTagger.load('ner')\n",
    "    tagger.predict(sentences_obj)\n",
    "    tegged_sentences = tagger.predict(sentences_obj)\n",
    "    #name_gender = {}\n",
    "    sentences = []\n",
    "    male_names = []\n",
    "    female_names = []\n",
    "    for tagged_sent in tegged_sentences:\n",
    "        sent_dict = tagged_sent.to_dict(tag_type='ner')\n",
    "        sentences += [sent_dict['text']]\n",
    "        if sent_dict['entities']:\n",
    "            for entity in sent_dict['entities']:\n",
    "                if entity['type'] == 'PER':\n",
    "                    name = entity['text']\n",
    "                    gender = isMale(name)\n",
    "                    #name_gender[name] = gender\n",
    "                    if gender:\n",
    "                        male_names.append(name)\n",
    "                    else:\n",
    "                        female_names.append(name)\n",
    "                    print(name, gender)\n",
    "    return male_names, female_names, sentences"
   ]
  },
  {
   "cell_type": "code",
   "execution_count": 4,
   "metadata": {},
   "outputs": [],
   "source": [
    "def humanName(name, names):\n",
    "    for x in names:\n",
    "        if x in name:\n",
    "            return True\n",
    "    return False"
   ]
  },
  {
   "cell_type": "code",
   "execution_count": 5,
   "metadata": {},
   "outputs": [],
   "source": [
    "def nameToNode(graph, male_names, female_names):\n",
    "    male_nodes = []\n",
    "    female_nodes  = []\n",
    "    nodes = set([item for sublist in graph for item in sublist])\n",
    "    for node in nodes:\n",
    "        for male_name in male_names:\n",
    "            if male_name in node:\n",
    "                male_nodes.append(node)\n",
    "        for female_name in female_names:\n",
    "            if female_name in node:\n",
    "                female_nodes.append(node)\n",
    "    # check if intersection\n",
    "    return male_nodes, female_nodes"
   ]
  },
  {
   "cell_type": "code",
   "execution_count": null,
   "metadata": {},
   "outputs": [],
   "source": []
  },
  {
   "cell_type": "markdown",
   "metadata": {},
   "source": [
    "## Name To Gender"
   ]
  },
  {
   "cell_type": "code",
   "execution_count": 1,
   "metadata": {
    "scrolled": true
   },
   "outputs": [
    {
     "name": "stderr",
     "output_type": "stream",
     "text": [
      "Using TensorFlow backend.\n",
      "WARNING: Logging before flag parsing goes to stderr.\n",
      "W0315 06:49:10.942313 10320 deprecation_wrapper.py:119] From c:\\users\\hp\\appdata\\local\\programs\\python\\python36\\lib\\site-packages\\keras\\backend\\tensorflow_backend.py:517: The name tf.placeholder is deprecated. Please use tf.compat.v1.placeholder instead.\n",
      "\n",
      "W0315 06:49:11.037203 10320 deprecation_wrapper.py:119] From c:\\users\\hp\\appdata\\local\\programs\\python\\python36\\lib\\site-packages\\keras\\backend\\tensorflow_backend.py:4138: The name tf.random_uniform is deprecated. Please use tf.random.uniform instead.\n",
      "\n",
      "W0315 06:49:11.068990 10320 deprecation_wrapper.py:119] From c:\\users\\hp\\appdata\\local\\programs\\python\\python36\\lib\\site-packages\\keras\\backend\\tensorflow_backend.py:74: The name tf.get_default_graph is deprecated. Please use tf.compat.v1.get_default_graph instead.\n",
      "\n",
      "W0315 06:49:11.207610 10320 deprecation_wrapper.py:119] From c:\\users\\hp\\appdata\\local\\programs\\python\\python36\\lib\\site-packages\\keras\\backend\\tensorflow_backend.py:133: The name tf.placeholder_with_default is deprecated. Please use tf.compat.v1.placeholder_with_default instead.\n",
      "\n",
      "W0315 06:49:11.222606 10320 deprecation.py:506] From c:\\users\\hp\\appdata\\local\\programs\\python\\python36\\lib\\site-packages\\keras\\backend\\tensorflow_backend.py:3445: calling dropout (from tensorflow.python.ops.nn_ops) with keep_prob is deprecated and will be removed in a future version.\n",
      "Instructions for updating:\n",
      "Please use `rate` instead of `keep_prob`. Rate should be set to `rate = 1 - keep_prob`.\n",
      "W0315 06:49:11.517809 10320 deprecation_wrapper.py:119] From c:\\users\\hp\\appdata\\local\\programs\\python\\python36\\lib\\site-packages\\keras\\backend\\tensorflow_backend.py:174: The name tf.get_default_session is deprecated. Please use tf.compat.v1.get_default_session instead.\n",
      "\n",
      "W0315 06:49:11.725251 10320 deprecation_wrapper.py:119] From c:\\users\\hp\\appdata\\local\\programs\\python\\python36\\lib\\site-packages\\keras\\optimizers.py:790: The name tf.train.Optimizer is deprecated. Please use tf.compat.v1.train.Optimizer instead.\n",
      "\n",
      "W0315 06:49:11.734196 10320 deprecation.py:323] From c:\\users\\hp\\appdata\\local\\programs\\python\\python36\\lib\\site-packages\\tensorflow\\python\\ops\\nn_impl.py:180: add_dispatch_support.<locals>.wrapper (from tensorflow.python.ops.array_ops) is deprecated and will be removed in a future version.\n",
      "Instructions for updating:\n",
      "Use tf.where in 2.0, which has the same broadcast rule as np.where\n"
     ]
    }
   ],
   "source": [
    "# LOAD SAVED MODEL\n",
    "from keras.models import load_model\n",
    "\n",
    "#del model  # deletes the existing model\n",
    "model = load_model('name2gender_model/char_rnn_hsc_model_0.h5')"
   ]
  },
  {
   "cell_type": "code",
   "execution_count": 7,
   "metadata": {},
   "outputs": [],
   "source": [
    "import json\n",
    "\n",
    "with open('name2gender_model/char2idx.json', 'r') as fp:\n",
    "    char2idx = json.load(fp)\n",
    "    \n",
    "with open('name2gender_model/idx2char.json', 'r') as fp:\n",
    "    idx2char = json.load(fp)"
   ]
  },
  {
   "cell_type": "code",
   "execution_count": 8,
   "metadata": {},
   "outputs": [],
   "source": [
    "import numpy as np\n",
    "from keras.preprocessing import sequence\n",
    "\n",
    "# Converts a name into vector\n",
    "def name2vectorTest(name):\n",
    "    name = name.lower()\n",
    "    new_name = \"\"\n",
    "    for char in name:\n",
    "      if char in char2idx:\n",
    "        new_name += char\n",
    "    chars = list(new_name)\n",
    "    vector = [ char2idx[c] for c in chars ]\n",
    "    return np.array(vector)\n",
    "\n",
    "# Converts names to fixed size tensor\n",
    "def names2tensorTest(names, maxlen=25):\n",
    "    namelist = [name2vectorTest(name) for name in names]\n",
    "    return sequence.pad_sequences(np.array(namelist), maxlen=maxlen)  # root of all troubles\n",
    "\n",
    "def name2gender(name):\n",
    "  result = model.predict_classes(np.array(names2tensorTest([name.lower()])))[0][0]\n",
    "  if result:\n",
    "    print(\"Male\")\n",
    "  else:\n",
    "    print(\"Female\")\n",
    "  \n",
    "def isMale(name):\n",
    "  result = model.predict_classes(np.array(names2tensorTest([name.lower()])))[0][0]\n",
    "  return result"
   ]
  },
  {
   "cell_type": "code",
   "execution_count": 9,
   "metadata": {},
   "outputs": [
    {
     "data": {
      "text/plain": [
       "0"
      ]
     },
     "execution_count": 9,
     "metadata": {},
     "output_type": "execute_result"
    }
   ],
   "source": [
    "isMale(\"khaleesi\")"
   ]
  },
  {
   "cell_type": "markdown",
   "metadata": {},
   "source": [
    "## Get Triples"
   ]
  },
  {
   "cell_type": "code",
   "execution_count": 2,
   "metadata": {},
   "outputs": [],
   "source": [
    "import os\n",
    "os.environ['CLASSPATH'] = \"miniepy/target/minie-0.0.1-SNAPSHOT.jar\"\n",
    "\n",
    "from jnius import autoclass\n",
    "\n",
    "CoreNLPUtils = autoclass('de.uni_mannheim.utils.coreNLP.CoreNLPUtils')\n",
    "AnnotatedProposition = autoclass('de.uni_mannheim.minie.annotation.AnnotatedProposition')\n",
    "MinIE = autoclass('de.uni_mannheim.minie.MinIE')\n",
    "StanfordCoreNLP = autoclass('edu.stanford.nlp.pipeline.StanfordCoreNLP')\n",
    "String = autoclass('java.lang.String')\n",
    "\n",
    "parser = CoreNLPUtils.StanfordDepNNParser()"
   ]
  },
  {
   "cell_type": "code",
   "execution_count": 11,
   "metadata": {},
   "outputs": [],
   "source": [
    "def getTriples(sentences, names, human_only=True):\n",
    "    graph = []\n",
    "    labels = []\n",
    "\n",
    "    for sentence in sentences:\n",
    "        minie = MinIE(String(sentence), parser, 0)\n",
    "\n",
    "        for ap in minie.getPropositions().elements():\n",
    "            if ap is not None:\n",
    "                triple = ap.getTripleAsString().replace(\"\\\"\", \"\").strip().split(\"\\t\")\n",
    "                if len(triple) == 3 and (not human_only or (humanName(triple[0], names) or humanName(triple[2], names))):\n",
    "                    graph += [(triple[0], triple[2])]\n",
    "                    labels += [triple[1]]\n",
    "    return graph, labels"
   ]
  },
  {
   "cell_type": "markdown",
   "metadata": {},
   "source": [
    "## Draw Graph"
   ]
  },
  {
   "cell_type": "code",
   "execution_count": 38,
   "metadata": {},
   "outputs": [],
   "source": [
    "import networkx as nx\n",
    "import matplotlib.pyplot as plt\n",
    "\n",
    "def drawGraph(graph, labels, male_nodes, female_nodes):\n",
    "    G = nx.DiGraph()\n",
    "\n",
    "    G.add_edges_from(graph)\n",
    "\n",
    "    graph_pos = nx.shell_layout(G)\n",
    "    plt.figure(1,figsize=(12,12)) \n",
    "\n",
    "    nx.draw_networkx_nodes(G,graph_pos,\n",
    "                           nodelist=male_nodes,\n",
    "                           node_color='r',\n",
    "                           node_size=5000,\n",
    "                       alpha=0.8)\n",
    "    nx.draw_networkx_nodes(G,graph_pos,\n",
    "                           nodelist=female_nodes,\n",
    "                           node_color='b',\n",
    "                           node_size=5000,\n",
    "                       alpha=0.8)\n",
    "\n",
    "    nx.draw_networkx_edges(G, graph_pos, width=2, alpha=0.3,  edge_color='blue')\n",
    "    nx.draw_networkx_labels(G, graph_pos, font_size=12, font_family='sans-serif')\n",
    "\n",
    "    edge_labels = dict(zip(graph, labels))\n",
    "    nx.draw_networkx_edge_labels(G, graph_pos, edge_labels=edge_labels)\n",
    "\n",
    "    plt.show()"
   ]
  },
  {
   "cell_type": "markdown",
   "metadata": {},
   "source": [
    "# Action"
   ]
  },
  {
   "cell_type": "code",
   "execution_count": 29,
   "metadata": {},
   "outputs": [],
   "source": [
    "del male_names, female_names, sentences, graph, labels, male_nodes, female_nodes"
   ]
  },
  {
   "cell_type": "code",
   "execution_count": 40,
   "metadata": {},
   "outputs": [],
   "source": [
    "def text2GenderGraph(input_text):\n",
    "    male_names, female_names, sentences = namesAndSentences(input_text)\n",
    "    graph, labels = getTriples(sentences, male_names+female_names, human_only=True)\n",
    "    male_nodes, female_nodes = nameToNode(graph, male_names, female_names)\n",
    "    \n",
    "    print(\"Triples:\")\n",
    "    for x,y in zip(graph, labels):\n",
    "        print(x[0],\"-\",y,\"-\",x[1])\n",
    "    \n",
    "    drawGraph(graph, labels, male_nodes, female_nodes)"
   ]
  },
  {
   "cell_type": "code",
   "execution_count": 41,
   "metadata": {},
   "outputs": [],
   "source": [
    "input_text = \"Actor Aayush Sharma and wife Arpita Khan Sharma, sister of Salman Khan, are expecting their second child together.\""
   ]
  },
  {
   "cell_type": "code",
   "execution_count": 42,
   "metadata": {
    "scrolled": false
   },
   "outputs": [
    {
     "name": "stdout",
     "output_type": "stream",
     "text": [
      "2019-10-20 20:15:18,571 loading file C:\\Users\\Hp\\.flair\\models\\en-ner-conll03-v0.4.pt\n",
      "Aayush Sharma 1\n",
      "Arpita Khan Sharma 0\n",
      "Salman Khan 1\n",
      "Triples:\n",
      "Aayush Sharma - is - Actor\n",
      "Arpita Khan Sharma - is - wife\n",
      "Aayush Sharma - is sister of - Salman Khan\n",
      "Arpita Khan Sharma - is sister of - Salman Khan\n",
      "Aayush Sharma - expecting - child\n",
      "Arpita Khan Sharma - expecting - child\n"
     ]
    },
    {
     "name": "stderr",
     "output_type": "stream",
     "text": [
      "c:\\users\\hp\\appdata\\local\\programs\\python\\python36\\lib\\site-packages\\networkx\\drawing\\nx_pylab.py:579: MatplotlibDeprecationWarning: \n",
      "The iterable function was deprecated in Matplotlib 3.1 and will be removed in 3.3. Use np.iterable instead.\n",
      "  if not cb.iterable(width):\n",
      "c:\\users\\hp\\appdata\\local\\programs\\python\\python36\\lib\\site-packages\\networkx\\drawing\\nx_pylab.py:676: MatplotlibDeprecationWarning: \n",
      "The iterable function was deprecated in Matplotlib 3.1 and will be removed in 3.3. Use np.iterable instead.\n",
      "  if cb.iterable(node_size):  # many node sizes\n"
     ]
    },
    {
     "data": {
      "image/png": "[encoded data removed]",
      "text/plain": [
       "<Figure size 864x864 with 1 Axes>"
      ]
     },
     "metadata": {},
     "output_type": "display_data"
    }
   ],
   "source": [
    "text2GenderGraph(input_text)"
   ]
  },
  {
   "cell_type": "code",
   "execution_count": null,
   "metadata": {},
   "outputs": [],
   "source": []
  }
 ],
 "metadata": {
  "kernelspec": {
   "display_name": "Python 3",
   "language": "python",
   "name": "python3"
  },
  "language_info": {
   "codemirror_mode": {
    "name": "ipython",
    "version": 3
   },
   "file_extension": ".py",
   "mimetype": "text/x-python",
   "name": "python",
   "nbconvert_exporter": "python",
   "pygments_lexer": "ipython3",
   "version": "3.6.8"
  }
 },
 "nbformat": 4,
 "nbformat_minor": 2
}
