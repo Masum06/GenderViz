{
 "cells": [
  {
   "cell_type": "code",
   "execution_count": 1,
   "metadata": {},
   "outputs": [],
   "source": [
    "import os\n",
    "os.environ['CLASSPATH'] = \"miniepy/target/minie-0.0.1-SNAPSHOT.jar\"\n",
    "\n",
    "from jnius import autoclass\n",
    "\n",
    "CoreNLPUtils = autoclass('de.uni_mannheim.utils.coreNLP.CoreNLPUtils')\n",
    "AnnotatedProposition = autoclass('de.uni_mannheim.minie.annotation.AnnotatedProposition')\n",
    "MinIE = autoclass('de.uni_mannheim.minie.MinIE')\n",
    "StanfordCoreNLP = autoclass('edu.stanford.nlp.pipeline.StanfordCoreNLP')\n",
    "String = autoclass('java.lang.String')\n",
    "\n",
    "parser = CoreNLPUtils.StanfordDepNNParser()"
   ]
  },
  {
   "cell_type": "code",
   "execution_count": 2,
   "metadata": {},
   "outputs": [],
   "source": [
    "def getTriples(sentences, names, human_only=True):\n",
    "    graph = []\n",
    "    labels = []\n",
    "\n",
    "    for sentence in sentences:\n",
    "        minie = MinIE(String(sentence), parser, 0)\n",
    "\n",
    "        for ap in minie.getPropositions().elements():\n",
    "            if ap is not None:\n",
    "                triple = ap.getTripleAsString().replace(\"\\\"\", \"\").strip().split(\"\\t\")\n",
    "                if len(triple) == 3 and (not human_only or (humanName(triple[0], names) or humanName(triple[2], names))):\n",
    "                    graph += [(triple[0], triple[2])]\n",
    "                    labels += [triple[1]]\n",
    "    return graph, labels"
   ]
  },
  {
   "cell_type": "code",
   "execution_count": 4,
   "metadata": {},
   "outputs": [],
   "source": [
    "minie = MinIE(String(\"The cat that was sitting in the back, vomited.\"), parser, 0)"
   ]
  },
  {
   "cell_type": "code",
   "execution_count": 5,
   "metadata": {},
   "outputs": [
    {
     "data": {
      "text/plain": [
       "<de.uni_mannheim.minie.MinIE at 0x16affe33fc0 jclass=de/uni_mannheim/minie/MinIE jself=<LocalRef obj=0x-2dc6558 at 0x16afb7f06f0>>"
      ]
     },
     "execution_count": 5,
     "metadata": {},
     "output_type": "execute_result"
    }
   ],
   "source": [
    "minie"
   ]
  },
  {
   "cell_type": "code",
   "execution_count": 10,
   "metadata": {},
   "outputs": [
    {
     "name": "stdout",
     "output_type": "stream",
     "text": [
      "['cat', 'sitting in', 'back']\n",
      "['cat', 'vomited']\n"
     ]
    }
   ],
   "source": [
    "for ap in minie.getPropositions().elements():\n",
    "    if ap is not None:\n",
    "        triple = ap.getTripleAsString().replace(\"\\\"\", \"\").strip().split(\"\\t\")\n",
    "        print(triple)"
   ]
  },
  {
   "cell_type": "code",
   "execution_count": null,
   "metadata": {},
   "outputs": [],
   "source": []
  }
 ],
 "metadata": {
  "kernelspec": {
   "display_name": "Python 3",
   "language": "python",
   "name": "python3"
  },
  "language_info": {
   "codemirror_mode": {
    "name": "ipython",
    "version": 3
   },
   "file_extension": ".py",
   "mimetype": "text/x-python",
   "name": "python",
   "nbconvert_exporter": "python",
   "pygments_lexer": "ipython3",
   "version": "3.6.8"
  }
 },
 "nbformat": 4,
 "nbformat_minor": 2
}
